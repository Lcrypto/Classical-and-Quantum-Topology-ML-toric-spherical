{
 "cells": [
  {
   "cell_type": "code",
   "execution_count": 133,
   "id": "a15c975e",
   "metadata": {},
   "outputs": [
    {
     "name": "stdout",
     "output_type": "stream",
     "text": [
      "Requirement already satisfied: networkx in /opt/anaconda3/lib/python3.12/site-packages (3.3)\n",
      "Requirement already satisfied: numpy in /opt/anaconda3/lib/python3.12/site-packages (1.26.4)\n",
      "Requirement already satisfied: scikit-learn in /opt/anaconda3/lib/python3.12/site-packages (1.5.1)\n",
      "Requirement already satisfied: numpy>=1.19.5 in /opt/anaconda3/lib/python3.12/site-packages (from scikit-learn) (1.26.4)\n",
      "Requirement already satisfied: scipy>=1.6.0 in /opt/anaconda3/lib/python3.12/site-packages (from scikit-learn) (1.13.1)\n",
      "Requirement already satisfied: joblib>=1.2.0 in /opt/anaconda3/lib/python3.12/site-packages (from scikit-learn) (1.4.2)\n",
      "Requirement already satisfied: threadpoolctl>=3.1.0 in /opt/anaconda3/lib/python3.12/site-packages (from scikit-learn) (3.5.0)\n",
      "Requirement already satisfied: scipy in /opt/anaconda3/lib/python3.12/site-packages (1.13.1)\n",
      "Requirement already satisfied: numpy<2.3,>=1.22.4 in /opt/anaconda3/lib/python3.12/site-packages (from scipy) (1.26.4)\n"
     ]
    }
   ],
   "source": [
    "!pip install networkx\n",
    "!pip install numpy\n",
    "!pip install scikit-learn\n",
    "!pip install scipy\n"
   ]
  },
  {
   "cell_type": "markdown",
   "id": "fef59b42",
   "metadata": {},
   "source": [
    "## Clustering on Synthetic Data\n",
    "\n",
    "The provided code corresponds to the following steps:\n",
    "\n",
    "* Reads the graph $\\mathcal{G}(\\mathcal{V},\\mathcal{E})$. This is an Erdős–Rényi graph generated with parameters ``n = 3000`` (number of vertices) and ``c = 8`` (average vertex degree).\n",
    "* Assigns weights to each edge. Weights are assigned based on the cluster labels that subsequent algorithms need to recover, using Gaussian weights.\n",
    "* Runs the following algorithms:  \n",
    "  ``Nishimori-Bethe Hessian``,  \n",
    "  ``spin-glass Bethe Hessian``,  \n",
    "  ``Mean Field Approximation`` (naive mean field),  \n",
    "  ``weighted Laplacian``.  \n",
    "  All algorithms output estimated labels and the eigenvector **X** used for label estimation.\n",
    "\n",
    "Recovery effectiveness (measured by overlap) is demonstrated for all algorithms."
   ]
  },
  {
   "cell_type": "markdown",
   "id": "6d94ebf1",
   "metadata": {},
   "source": [
    "## Import of libraries und files\n"
   ]
  },
  {
   "cell_type": "code",
   "execution_count": 136,
   "id": "3962d98f-a438-42f2-89e3-ae98e3fa3f66",
   "metadata": {},
   "outputs": [],
   "source": [
    "import numpy as np\n",
    "import Basic_functions as bf\n",
    "import Clustering as ca\n",
    "import NBNC as nb\n",
    "import random\n",
    "import ast"
   ]
  },
  {
   "cell_type": "markdown",
   "id": "041af70c",
   "metadata": {},
   "source": [
    "## Reading `edge_list` and `J_edge_list`\n",
    "\n",
    "The `edge_list` and `J_edge_list` files were generated using parameters `n = 3000` and `c = 8`."
   ]
  },
  {
   "cell_type": "code",
   "execution_count": 138,
   "id": "75ba24c8-651a-490b-8b72-852c6601d858",
   "metadata": {},
   "outputs": [],
   "source": [
    "c = 8\n",
    "n = 3000\n",
    "\n",
    "# For repeatability read graph from files\n",
    "with open('edge_list.txt') as f:    # reading Julia edge list\n",
    "    j_edge_list = np.array([list(map(int, line.split('\\t'))) for line in f])\n",
    "with open('J_edge_list.txt', 'r') as f: # reading Julia weighted edges\n",
    "    j_J_edge_list = np.array([ast.literal_eval(line.strip()) for line in f])\n",
    "\n",
    "j_edge_list -= 1    # Julia indexes [1,n], Python indexes [0, n)\n",
    "\n",
    "l = np.ones(n)   # label list\n",
    "l[0:(n // 2)] = -1"
   ]
  },
  {
   "cell_type": "markdown",
   "id": "0e1d351a",
   "metadata": {},
   "source": [
    "## Clustering"
   ]
  },
  {
   "cell_type": "code",
   "execution_count": 140,
   "id": "33834256-ac71-4b09-a99a-b81538f22206",
   "metadata": {},
   "outputs": [
    {
     "name": "stdout",
     "output_type": "stream",
     "text": [
      "\u001b[94mThe value of beta_SG is 0.17. Computing beta_N\n",
      "\n",
      "Iteration #  1 :  \n",
      "The current estimate of beta_N is  0.24990887936213965 \n",
      "The smallest eigenvalue is  -0.23133361171879888 \n",
      "\n",
      "\n",
      "Iteration #  2 :  \n",
      "The current estimate of beta_N is  0.26320494674239076 \n",
      "The smallest eigenvalue is  -0.05356894794912574 \n",
      "\n",
      "\n",
      "Iteration #  3 :  \n",
      "The current estimate of beta_N is  0.26360321604179915 \n",
      "The smallest eigenvalue is  -0.0015517665126660765 \n",
      "\n",
      "\n",
      "Iteration #  4 :  \n",
      "The current estimate of beta_N is  0.26360321604179915 \n",
      "The smallest eigenvalue is  -8.730378632997783e-06 \n",
      "\n",
      "The value of beta_N is 0.26\n",
      "Running kmeans\n",
      "Done!\u001b[0m\n",
      "\u001b[93mThe value of β_SG is 0.17\n",
      "\n",
      "Running kmeans\n",
      "Done!\u001b[0m\n",
      "\n",
      "\u001b[92mRunning kmeans\u001b[0m\n",
      "\u001b[92mDone!\u001b[0m\n",
      "\n",
      "\u001b[95mRunning kmeans\n",
      "Done!\u001b[90m\n",
      "\n"
     ]
    }
   ],
   "source": [
    "X_BHN, l_BHN = nb.clustering_BH_Nishimori(j_edge_list, j_J_edge_list, n, N_repeat=8, verbose=2)\n",
    "X_SG, l_SG = ca.clustering_BH_SG(j_edge_list, j_J_edge_list, n, N_repeat=8, verbose=2, t=1.)\n",
    "X_MF, l_MF = ca.clustering_MF(j_edge_list, j_J_edge_list, n, N_repeat=8, verbose=2)\n",
    "X_LAP, l_LAP = ca.clustering_signed_Lap(j_edge_list, j_J_edge_list, n, N_repeat=8, verbose=2)"
   ]
  },
  {
   "cell_type": "markdown",
   "id": "597771a1",
   "metadata": {},
   "source": [
    "## Results"
   ]
  },
  {
   "cell_type": "code",
   "execution_count": 142,
   "id": "66d1113a-4667-4139-bdc2-f8101388f023",
   "metadata": {},
   "outputs": [
    {
     "name": "stdout",
     "output_type": "stream",
     "text": [
      "\u001b[94m BH Nishimori = \u001b[0m0.6606666666666667\n",
      "\u001b[93m BH spin glass = \u001b[0m0.6599999999999999\n",
      "\u001b[92m Mean field = \u001b[0m0.005333333333333301\n",
      "\u001b[95m Laplacian = \u001b[0m0.0006666666666667043\n"
     ]
    }
   ],
   "source": [
    "OverlapBHN = abs(2*(sum(l_BHN == l)/n - 0.5))\n",
    "OverlapMF = abs(2*(sum(l_MF == l)/n - 0.5))\n",
    "OverlapSG = abs(2*(sum(l_SG == l)/n - 0.5))\n",
    "OverlapLAP = abs(2*(sum(l_LAP == l)/n - 0.5))\n",
    "\n",
    "print(f'\\033[94m BH Nishimori = \\033[0m{OverlapBHN}')\n",
    "print(f'\\033[93m BH spin glass = \\033[0m{OverlapSG}')\n",
    "print(f'\\033[92m Mean field = \\033[0m{OverlapMF}')\n",
    "print(f'\\033[95m Laplacian = \\033[0m{OverlapLAP}')"
   ]
  },
  {
   "cell_type": "code",
   "execution_count": null,
   "id": "e250a655-c114-474e-9034-2138fe2f7de5",
   "metadata": {},
   "outputs": [],
   "source": []
  },
  {
   "cell_type": "code",
   "execution_count": null,
   "id": "465acac2-2815-4c9e-84a6-48319b9f12c2",
   "metadata": {},
   "outputs": [],
   "source": []
  },
  {
   "cell_type": "code",
   "execution_count": null,
   "id": "f77626de-09ab-4cbe-aa63-bd41a2a80344",
   "metadata": {},
   "outputs": [],
   "source": []
  },
  {
   "cell_type": "code",
   "execution_count": null,
   "id": "ed59c31e-20c2-4f5c-9365-ec479b9de152",
   "metadata": {},
   "outputs": [],
   "source": []
  },
  {
   "cell_type": "code",
   "execution_count": null,
   "id": "21df9cd5-3e45-4666-aab1-3345d664a9b0",
   "metadata": {},
   "outputs": [],
   "source": []
  }
 ],
 "metadata": {
  "kernelspec": {
   "display_name": "Python [conda env:base] *",
   "language": "python",
   "name": "conda-base-py"
  },
  "language_info": {
   "codemirror_mode": {
    "name": "ipython",
    "version": 3
   },
   "file_extension": ".py",
   "mimetype": "text/x-python",
   "name": "python",
   "nbconvert_exporter": "python",
   "pygments_lexer": "ipython3",
   "version": "3.12.7"
  }
 },
 "nbformat": 4,
 "nbformat_minor": 5
}
